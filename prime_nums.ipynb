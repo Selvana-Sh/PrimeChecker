{
 "cells": [
  {
   "cell_type": "markdown",
   "id": "54d4cc86-3ad1-4df4-a08f-0f995c76912e",
   "metadata": {},
   "source": [
    "# Prime Number Checker Using Trial Division\n",
    "\n",
    "## Overview\n",
    "\n",
    "This project uses a Jupyter Notebook to check if a number is prime using the **trial division algorithm**, a simple method. A prime number is a natural number greater than 1 divisible only by 1 and itself (e.g., 2, 3, 5, 7, 11). The goal is to implement an easy algorithm, test it with various inputs, and explain how it works.\n",
    "\n",
    "## Trial Division Algorithm\n",
    "\n",
    "### What Is It?\n",
    "Trial division is a basic way to test if a number is prime by checking if it’s divisible by any integer other than 1 and itself. We optimize by testing only necessary divisors.\n",
    "\n",
    "### How It Works\n",
    "1. **Input**: A number \\( n \\) to test for primality.\n",
    "2. **Base Cases**:\n",
    "   - If \\( n <= 1 \\), return False (0, 1, and negative numbers aren’t prime).\n",
    "   - If \\( n = 2 \\), return True, it’s prime (the only even prime).\n",
    "   - If \\( n \\) is even and greater than 2, return False (divisible by 2, e.g., 4, 6, 8).\n",
    "3. **Test Divisors**:\n",
    "   - For odd numbers \\( n > 2 \\), check divisibility by odd integers from 3 up to \\( sqrt{n} \\).\n",
    "   - Use \\( sqrt{n} \\) as the upper limit because if \\( n \\) has a divisor \\( d > sqrt{n} \\), it must also have a divisor \\( n/d < sqrt{n} \\), already tested.\n",
    "   - Test only odd divisors (3, 5, 7, ...) to skip even numbers, since \\( n \\) is odd (having passed the even check).\n",
    "4. **Conclusion**:\n",
    "   - If any divisor is found, \\( n \\) is not prime (divisible by something other than 1 and itself).\n",
    "   - If no divisors are found, \\( n \\) is prime (in this case, an odd number greater than 1 with no other divisors).\n",
    "\n",
    "### Why Simple?\n",
    "- **Intuitive**: Like manually checking divisibility.\n",
    "- **Basic Math**: Uses division and square roots.\n",
    "- **Beginner-Friendly**: Easy to code and understand.\n",
    "\n",
    "### Trade-offs\n",
    "- **Pro**: Always correct (deterministic).\n",
    "- **Con**: Slow for large numbers (\\( O(sqrt{n}) \\)) due to many divisor checks."
   ]
  },
  {
   "cell_type": "code",
   "execution_count": 10,
   "id": "ee5590d9-d21a-4449-ac0b-d846d5cd3114",
   "metadata": {},
   "outputs": [],
   "source": [
    "import math"
   ]
  },
  {
   "cell_type": "code",
   "execution_count": 11,
   "id": "0e18494f-1c35-4ef1-b02f-36000959c487",
   "metadata": {},
   "outputs": [],
   "source": [
    "def is_prime(n):\n",
    "    if n<=1:\n",
    "        return False\n",
    "    if n==2:\n",
    "        return True\n",
    "    if n%2==0:\n",
    "        return False\n",
    "    for i in range(3, int(math.sqrt(n)) + 1, 2): \n",
    "        if n % i == 0:\n",
    "            return False\n",
    "    return True"
   ]
  },
  {
   "cell_type": "code",
   "execution_count": 12,
   "id": "0a9bf9b0-7c9a-4019-a15d-7e4975c9ca78",
   "metadata": {},
   "outputs": [
    {
     "name": "stdin",
     "output_type": "stream",
     "text": [
      "Enter a number to check if it's prime:  2\n"
     ]
    },
    {
     "name": "stdout",
     "output_type": "stream",
     "text": [
      "2 is a prime number.\n"
     ]
    }
   ],
   "source": [
    "# Testing\n",
    "try:\n",
    "    user_input = int(input(\"Enter a number to check if it's prime: \"))\n",
    "    if is_prime(user_input):\n",
    "        print(f\"{user_input} is a prime number.\")\n",
    "    else:\n",
    "        print(f\"{user_input} is not a prime number.\")\n",
    "except ValueError:\n",
    "    print(\"Please enter a valid integer.\")"
   ]
  }
 ],
 "metadata": {
  "kernelspec": {
   "display_name": "Python 3 (ipykernel)",
   "language": "python",
   "name": "python3"
  },
  "language_info": {
   "codemirror_mode": {
    "name": "ipython",
    "version": 3
   },
   "file_extension": ".py",
   "mimetype": "text/x-python",
   "name": "python",
   "nbconvert_exporter": "python",
   "pygments_lexer": "ipython3",
   "version": "3.13.2"
  }
 },
 "nbformat": 4,
 "nbformat_minor": 5
}
